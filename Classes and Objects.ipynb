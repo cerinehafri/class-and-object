{
 "cells": [
  {
   "cell_type": "code",
   "execution_count": 49,
   "id": "394bca6d",
   "metadata": {},
   "outputs": [],
   "source": [
    "class parrot :\n",
    "    def __init__(self,name,age):\n",
    "        self.name=name\n",
    "        self.age=age\n",
    "    def dance(self):\n",
    "        print(self.name,\"is dancing\")"
   ]
  },
  {
   "cell_type": "code",
   "execution_count": 51,
   "id": "f255f390",
   "metadata": {},
   "outputs": [
    {
     "name": "stdout",
     "output_type": "stream",
     "text": [
      "ahmed is dancing\n"
     ]
    }
   ],
   "source": [
    "lo=parrot(\"ahmed\",12)\n",
    "lo.dance()"
   ]
  },
  {
   "cell_type": "code",
   "execution_count": 39,
   "id": "b0b5b3e8",
   "metadata": {},
   "outputs": [],
   "source": [
    "class bank:\n",
    "    def __init__(self,b):\n",
    "        self.balance=b\n",
    "    def deposit(self,d):\n",
    "        self.balance=self.balance+d\n",
    "        print(\"your new balance is\",self.balance)\n",
    "    def withdraw(self,w):\n",
    "        if w<= self.balance:\n",
    "            self.balance=self.balance-w\n",
    "            print(\"your new balance is\",self.balance)\n",
    "        else:\n",
    "            print(\"your balance is too low,you have left\",self.balance)"
   ]
  },
  {
   "cell_type": "code",
   "execution_count": 40,
   "id": "fbaee22e",
   "metadata": {},
   "outputs": [],
   "source": [
    "b=bank(1000)"
   ]
  },
  {
   "cell_type": "code",
   "execution_count": 41,
   "id": "cc96f6e5",
   "metadata": {},
   "outputs": [
    {
     "name": "stdout",
     "output_type": "stream",
     "text": [
      "your new balance is 3000\n"
     ]
    }
   ],
   "source": [
    "b.deposit(2000)"
   ]
  },
  {
   "cell_type": "code",
   "execution_count": 42,
   "id": "8ce53d9d",
   "metadata": {},
   "outputs": [
    {
     "name": "stdout",
     "output_type": "stream",
     "text": [
      "your balance is too low,you have left 3000\n"
     ]
    }
   ],
   "source": [
    "b.withdraw(3500)"
   ]
  },
  {
   "cell_type": "code",
   "execution_count": null,
   "id": "eb19b636",
   "metadata": {},
   "outputs": [],
   "source": []
  }
 ],
 "metadata": {
  "kernelspec": {
   "display_name": "Python 3 (ipykernel)",
   "language": "python",
   "name": "python3"
  },
  "language_info": {
   "codemirror_mode": {
    "name": "ipython",
    "version": 3
   },
   "file_extension": ".py",
   "mimetype": "text/x-python",
   "name": "python",
   "nbconvert_exporter": "python",
   "pygments_lexer": "ipython3",
   "version": "3.9.12"
  }
 },
 "nbformat": 4,
 "nbformat_minor": 5
}
